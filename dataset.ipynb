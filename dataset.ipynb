{
 "cells": [
  {
   "attachments": {},
   "cell_type": "markdown",
   "metadata": {},
   "source": [
    "# Preparation Data"
   ]
  },
  {
   "cell_type": "code",
   "execution_count": 1,
   "metadata": {},
   "outputs": [],
   "source": [
    "import pandas as pd"
   ]
  },
  {
   "attachments": {},
   "cell_type": "markdown",
   "metadata": {},
   "source": [
    "    Store Data"
   ]
  },
  {
   "cell_type": "code",
   "execution_count": 2,
   "metadata": {},
   "outputs": [
    {
     "data": {
      "text/html": [
       "<div>\n",
       "<style scoped>\n",
       "    .dataframe tbody tr th:only-of-type {\n",
       "        vertical-align: middle;\n",
       "    }\n",
       "\n",
       "    .dataframe tbody tr th {\n",
       "        vertical-align: top;\n",
       "    }\n",
       "\n",
       "    .dataframe thead th {\n",
       "        text-align: right;\n",
       "    }\n",
       "</style>\n",
       "<table border=\"1\" class=\"dataframe\">\n",
       "  <thead>\n",
       "    <tr style=\"text-align: right;\">\n",
       "      <th></th>\n",
       "      <th>store_nbr</th>\n",
       "      <th>city</th>\n",
       "      <th>state</th>\n",
       "      <th>type</th>\n",
       "      <th>cluster</th>\n",
       "    </tr>\n",
       "  </thead>\n",
       "  <tbody>\n",
       "    <tr>\n",
       "      <th>0</th>\n",
       "      <td>1</td>\n",
       "      <td>Quito</td>\n",
       "      <td>Pichincha</td>\n",
       "      <td>D</td>\n",
       "      <td>13</td>\n",
       "    </tr>\n",
       "    <tr>\n",
       "      <th>1</th>\n",
       "      <td>2</td>\n",
       "      <td>Quito</td>\n",
       "      <td>Pichincha</td>\n",
       "      <td>D</td>\n",
       "      <td>13</td>\n",
       "    </tr>\n",
       "    <tr>\n",
       "      <th>2</th>\n",
       "      <td>3</td>\n",
       "      <td>Quito</td>\n",
       "      <td>Pichincha</td>\n",
       "      <td>D</td>\n",
       "      <td>8</td>\n",
       "    </tr>\n",
       "    <tr>\n",
       "      <th>3</th>\n",
       "      <td>4</td>\n",
       "      <td>Quito</td>\n",
       "      <td>Pichincha</td>\n",
       "      <td>D</td>\n",
       "      <td>9</td>\n",
       "    </tr>\n",
       "    <tr>\n",
       "      <th>4</th>\n",
       "      <td>5</td>\n",
       "      <td>Santo Domingo</td>\n",
       "      <td>Santo Domingo de los Tsachilas</td>\n",
       "      <td>D</td>\n",
       "      <td>4</td>\n",
       "    </tr>\n",
       "  </tbody>\n",
       "</table>\n",
       "</div>"
      ],
      "text/plain": [
       "   store_nbr           city                           state type  cluster\n",
       "0          1          Quito                       Pichincha    D       13\n",
       "1          2          Quito                       Pichincha    D       13\n",
       "2          3          Quito                       Pichincha    D        8\n",
       "3          4          Quito                       Pichincha    D        9\n",
       "4          5  Santo Domingo  Santo Domingo de los Tsachilas    D        4"
      ]
     },
     "execution_count": 2,
     "metadata": {},
     "output_type": "execute_result"
    }
   ],
   "source": [
    "stores = pd.read_csv('stores.csv')\n",
    "stores.head(5)"
   ]
  },
  {
   "cell_type": "code",
   "execution_count": 3,
   "metadata": {},
   "outputs": [
    {
     "name": "stdout",
     "output_type": "stream",
     "text": [
      "<class 'pandas.core.frame.DataFrame'>\n",
      "RangeIndex: 54 entries, 0 to 53\n",
      "Data columns (total 5 columns):\n",
      " #   Column     Non-Null Count  Dtype \n",
      "---  ------     --------------  ----- \n",
      " 0   store_nbr  54 non-null     int64 \n",
      " 1   city       54 non-null     object\n",
      " 2   state      54 non-null     object\n",
      " 3   type       54 non-null     object\n",
      " 4   cluster    54 non-null     int64 \n",
      "dtypes: int64(2), object(3)\n",
      "memory usage: 2.2+ KB\n"
     ]
    }
   ],
   "source": [
    "stores.info()"
   ]
  },
  {
   "cell_type": "code",
   "execution_count": 4,
   "metadata": {},
   "outputs": [
    {
     "name": "stdout",
     "output_type": "stream",
     "text": [
      "[ 1  2  3  4  5  6  7  8  9 10 11 12 13 14 15 16 17 18 19 20 21 22 23 24\n",
      " 25 26 27 28 29 30 31 32 33 34 35 36 37 38 39 40 41 42 43 44 45 46 47 48\n",
      " 49 50 51 52 53 54]\n",
      "['Quito' 'Santo Domingo' 'Cayambe' 'Latacunga' 'Riobamba' 'Ibarra'\n",
      " 'Guaranda' 'Puyo' 'Ambato' 'Guayaquil' 'Salinas' 'Daule' 'Babahoyo'\n",
      " 'Quevedo' 'Playas' 'Libertad' 'Cuenca' 'Loja' 'Machala' 'Esmeraldas'\n",
      " 'Manta' 'El Carmen']\n",
      "['Pichincha' 'Santo Domingo de los Tsachilas' 'Cotopaxi' 'Chimborazo'\n",
      " 'Imbabura' 'Bolivar' 'Pastaza' 'Tungurahua' 'Guayas' 'Santa Elena'\n",
      " 'Los Rios' 'Azuay' 'Loja' 'El Oro' 'Esmeraldas' 'Manabi']\n",
      "['D' 'B' 'C' 'E' 'A']\n",
      "[13  8  9  4  6 15  7  3 12 16  1 10  2  5 11 14 17]\n"
     ]
    }
   ],
   "source": [
    "# for missing value at store data\n",
    "for col in ['store_nbr','city','state','type','cluster']:\n",
    "    print(stores[col].unique())"
   ]
  },
  {
   "cell_type": "code",
   "execution_count": 5,
   "metadata": {},
   "outputs": [
    {
     "data": {
      "text/plain": [
       "store_nbr    0\n",
       "city         0\n",
       "state        0\n",
       "type         0\n",
       "cluster      0\n",
       "dtype: int64"
      ]
     },
     "execution_count": 5,
     "metadata": {},
     "output_type": "execute_result"
    }
   ],
   "source": [
    "stores.isnull().sum()"
   ]
  },
  {
   "attachments": {},
   "cell_type": "markdown",
   "metadata": {},
   "source": [
    "    Train data"
   ]
  },
  {
   "cell_type": "code",
   "execution_count": 3,
   "metadata": {},
   "outputs": [
    {
     "data": {
      "text/html": [
       "<div>\n",
       "<style scoped>\n",
       "    .dataframe tbody tr th:only-of-type {\n",
       "        vertical-align: middle;\n",
       "    }\n",
       "\n",
       "    .dataframe tbody tr th {\n",
       "        vertical-align: top;\n",
       "    }\n",
       "\n",
       "    .dataframe thead th {\n",
       "        text-align: right;\n",
       "    }\n",
       "</style>\n",
       "<table border=\"1\" class=\"dataframe\">\n",
       "  <thead>\n",
       "    <tr style=\"text-align: right;\">\n",
       "      <th></th>\n",
       "      <th>id</th>\n",
       "      <th>date</th>\n",
       "      <th>store_nbr</th>\n",
       "      <th>family</th>\n",
       "      <th>sales</th>\n",
       "      <th>onpromotion</th>\n",
       "    </tr>\n",
       "  </thead>\n",
       "  <tbody>\n",
       "    <tr>\n",
       "      <th>0</th>\n",
       "      <td>0</td>\n",
       "      <td>2013-01-01</td>\n",
       "      <td>1</td>\n",
       "      <td>AUTOMOTIVE</td>\n",
       "      <td>0.0</td>\n",
       "      <td>0</td>\n",
       "    </tr>\n",
       "    <tr>\n",
       "      <th>1</th>\n",
       "      <td>1</td>\n",
       "      <td>2013-01-01</td>\n",
       "      <td>1</td>\n",
       "      <td>BABY CARE</td>\n",
       "      <td>0.0</td>\n",
       "      <td>0</td>\n",
       "    </tr>\n",
       "    <tr>\n",
       "      <th>2</th>\n",
       "      <td>2</td>\n",
       "      <td>2013-01-01</td>\n",
       "      <td>1</td>\n",
       "      <td>BEAUTY</td>\n",
       "      <td>0.0</td>\n",
       "      <td>0</td>\n",
       "    </tr>\n",
       "    <tr>\n",
       "      <th>3</th>\n",
       "      <td>3</td>\n",
       "      <td>2013-01-01</td>\n",
       "      <td>1</td>\n",
       "      <td>BEVERAGES</td>\n",
       "      <td>0.0</td>\n",
       "      <td>0</td>\n",
       "    </tr>\n",
       "    <tr>\n",
       "      <th>4</th>\n",
       "      <td>4</td>\n",
       "      <td>2013-01-01</td>\n",
       "      <td>1</td>\n",
       "      <td>BOOKS</td>\n",
       "      <td>0.0</td>\n",
       "      <td>0</td>\n",
       "    </tr>\n",
       "  </tbody>\n",
       "</table>\n",
       "</div>"
      ],
      "text/plain": [
       "   id        date  store_nbr      family  sales  onpromotion\n",
       "0   0  2013-01-01          1  AUTOMOTIVE    0.0            0\n",
       "1   1  2013-01-01          1   BABY CARE    0.0            0\n",
       "2   2  2013-01-01          1      BEAUTY    0.0            0\n",
       "3   3  2013-01-01          1   BEVERAGES    0.0            0\n",
       "4   4  2013-01-01          1       BOOKS    0.0            0"
      ]
     },
     "execution_count": 3,
     "metadata": {},
     "output_type": "execute_result"
    }
   ],
   "source": [
    "train = pd.read_csv('train.csv')\n",
    "train.head(5)"
   ]
  },
  {
   "cell_type": "code",
   "execution_count": 7,
   "metadata": {},
   "outputs": [
    {
     "name": "stdout",
     "output_type": "stream",
     "text": [
      "<class 'pandas.core.frame.DataFrame'>\n",
      "RangeIndex: 3000888 entries, 0 to 3000887\n",
      "Data columns (total 6 columns):\n",
      " #   Column       Dtype  \n",
      "---  ------       -----  \n",
      " 0   id           int64  \n",
      " 1   date         object \n",
      " 2   store_nbr    int64  \n",
      " 3   family       object \n",
      " 4   sales        float64\n",
      " 5   onpromotion  int64  \n",
      "dtypes: float64(1), int64(3), object(2)\n",
      "memory usage: 137.4+ MB\n"
     ]
    }
   ],
   "source": [
    "train.info()"
   ]
  },
  {
   "cell_type": "code",
   "execution_count": 8,
   "metadata": {},
   "outputs": [
    {
     "name": "stdout",
     "output_type": "stream",
     "text": [
      "[      0       1       2 ... 3000885 3000886 3000887]\n",
      "['2013-01-01' '2013-01-02' '2013-01-03' ... '2017-08-13' '2017-08-14'\n",
      " '2017-08-15']\n",
      "[ 1 10 11 12 13 14 15 16 17 18 19  2 20 21 22 23 24 25 26 27 28 29  3 30\n",
      " 31 32 33 34 35 36 37 38 39  4 40 41 42 43 44 45 46 47 48 49  5 50 51 52\n",
      " 53 54  6  7  8  9]\n",
      "['AUTOMOTIVE' 'BABY CARE' 'BEAUTY' 'BEVERAGES' 'BOOKS' 'BREAD/BAKERY'\n",
      " 'CELEBRATION' 'CLEANING' 'DAIRY' 'DELI' 'EGGS' 'FROZEN FOODS' 'GROCERY I'\n",
      " 'GROCERY II' 'HARDWARE' 'HOME AND KITCHEN I' 'HOME AND KITCHEN II'\n",
      " 'HOME APPLIANCES' 'HOME CARE' 'LADIESWEAR' 'LAWN AND GARDEN' 'LINGERIE'\n",
      " 'LIQUOR,WINE,BEER' 'MAGAZINES' 'MEATS' 'PERSONAL CARE' 'PET SUPPLIES'\n",
      " 'PLAYERS AND ELECTRONICS' 'POULTRY' 'PREPARED FOODS' 'PRODUCE'\n",
      " 'SCHOOL AND OFFICE SUPPLIES' 'SEAFOOD']\n",
      "[0.000000e+00 2.000000e+00 8.100000e+02 ... 4.381330e+02 1.545530e+02\n",
      " 2.419729e+03]\n",
      "[  0   3   5   1  56  20  19   2   4  18  17  12   6   7  10   9  50   8\n",
      "  16  42  51  13  15  47  21  40  37  54  24  58  22  59  11  45  25  55\n",
      "  26  43  35  14  28  46  36  32  53  57  27  39  41  30  29  49  23  48\n",
      "  44  38  31  52  33  34  61  60 116  86  73 113 102  68 104  93  70  92\n",
      " 121  72 178 174 161 118 105 172 163 167 142 154 133 180 181 173 165 168\n",
      " 186 140 149 145 169 188  62  84 111  65 107  63 101  87 125  94 114 171\n",
      " 153 170 166 141 155 179 192 131 147 151 189  79  74 110  64  67  99 123\n",
      " 157 117 150 182 162 160 194 135 190  69 108  89 126 156 103 146 132 177\n",
      " 164 176 112  75 109  91 128 175 187 148 137 184 196 144 158 119 106  66\n",
      " 100  90 120 115  98 159 152 185 139 143  80 124  71 134 193  78  88 122\n",
      " 130  81  97 138 191  76  96 198  82  95 195 183 199 200 201 197  77  83\n",
      " 136 205 204 202 129 206  85 209 211 207 208 203 210 127 213 212 218 216\n",
      " 217 214 222 220 223 229 225 228 224 231 215 233 230 235 227 221 226 219\n",
      " 289 245 609 261 322 276 710 511 326 281 718 551 304 639 489 299 243 630\n",
      " 476 655 446 286 633 435 302 644 470 332 259 702 520 300 241 668 510 237\n",
      " 626 507 317 624 474 240 672 306 600 383 293 258 646 444 333 279 717 342\n",
      " 720 547 305 642 452 313 252 664 481 277 307 264 684 479 255 657 441 312\n",
      " 269 716 528 320 285 726 536 283 628 469 464 677 420 247 629 424 290 473\n",
      " 294 722 485 297 282 719 543 253 254 678 496 275 741 512 236 234 244 239\n",
      " 238 242 232 249 250 251 391 539 411 486 407 330 697 246 467 263 591 248\n",
      " 519 425]\n"
     ]
    }
   ],
   "source": [
    "# for missing value at train data\n",
    "for col in ['id','date','store_nbr','family','sales','onpromotion']:\n",
    "    print (train[col].unique())"
   ]
  },
  {
   "cell_type": "code",
   "execution_count": 9,
   "metadata": {},
   "outputs": [
    {
     "data": {
      "text/plain": [
       "id             0\n",
       "date           0\n",
       "store_nbr      0\n",
       "family         0\n",
       "sales          0\n",
       "onpromotion    0\n",
       "dtype: int64"
      ]
     },
     "execution_count": 9,
     "metadata": {},
     "output_type": "execute_result"
    }
   ],
   "source": [
    "train.isnull().sum()"
   ]
  },
  {
   "attachments": {},
   "cell_type": "markdown",
   "metadata": {},
   "source": [
    "    Oil Data"
   ]
  },
  {
   "cell_type": "code",
   "execution_count": 4,
   "metadata": {},
   "outputs": [
    {
     "data": {
      "text/html": [
       "<div>\n",
       "<style scoped>\n",
       "    .dataframe tbody tr th:only-of-type {\n",
       "        vertical-align: middle;\n",
       "    }\n",
       "\n",
       "    .dataframe tbody tr th {\n",
       "        vertical-align: top;\n",
       "    }\n",
       "\n",
       "    .dataframe thead th {\n",
       "        text-align: right;\n",
       "    }\n",
       "</style>\n",
       "<table border=\"1\" class=\"dataframe\">\n",
       "  <thead>\n",
       "    <tr style=\"text-align: right;\">\n",
       "      <th></th>\n",
       "      <th>date</th>\n",
       "      <th>dcoilwtico</th>\n",
       "    </tr>\n",
       "  </thead>\n",
       "  <tbody>\n",
       "    <tr>\n",
       "      <th>0</th>\n",
       "      <td>2013-01-01</td>\n",
       "      <td>NaN</td>\n",
       "    </tr>\n",
       "    <tr>\n",
       "      <th>1</th>\n",
       "      <td>2013-01-02</td>\n",
       "      <td>93.14</td>\n",
       "    </tr>\n",
       "    <tr>\n",
       "      <th>2</th>\n",
       "      <td>2013-01-03</td>\n",
       "      <td>92.97</td>\n",
       "    </tr>\n",
       "    <tr>\n",
       "      <th>3</th>\n",
       "      <td>2013-01-04</td>\n",
       "      <td>93.12</td>\n",
       "    </tr>\n",
       "    <tr>\n",
       "      <th>4</th>\n",
       "      <td>2013-01-07</td>\n",
       "      <td>93.20</td>\n",
       "    </tr>\n",
       "  </tbody>\n",
       "</table>\n",
       "</div>"
      ],
      "text/plain": [
       "         date  dcoilwtico\n",
       "0  2013-01-01         NaN\n",
       "1  2013-01-02       93.14\n",
       "2  2013-01-03       92.97\n",
       "3  2013-01-04       93.12\n",
       "4  2013-01-07       93.20"
      ]
     },
     "execution_count": 4,
     "metadata": {},
     "output_type": "execute_result"
    }
   ],
   "source": [
    "oil = pd.read_csv('oil.csv')\n",
    "oil.head(5)"
   ]
  },
  {
   "cell_type": "code",
   "execution_count": 11,
   "metadata": {},
   "outputs": [
    {
     "name": "stdout",
     "output_type": "stream",
     "text": [
      "<class 'pandas.core.frame.DataFrame'>\n",
      "RangeIndex: 1218 entries, 0 to 1217\n",
      "Data columns (total 2 columns):\n",
      " #   Column      Non-Null Count  Dtype  \n",
      "---  ------      --------------  -----  \n",
      " 0   date        1218 non-null   object \n",
      " 1   dcoilwtico  1175 non-null   float64\n",
      "dtypes: float64(1), object(1)\n",
      "memory usage: 19.2+ KB\n"
     ]
    }
   ],
   "source": [
    "oil.info()"
   ]
  },
  {
   "cell_type": "code",
   "execution_count": 12,
   "metadata": {},
   "outputs": [
    {
     "name": "stdout",
     "output_type": "stream",
     "text": [
      "['2013-01-01' '2013-01-02' '2013-01-03' ... '2017-08-29' '2017-08-30'\n",
      " '2017-08-31']\n",
      "[   nan  93.14  92.97  93.12  93.2   93.21  93.08  93.81  93.6   94.27\n",
      "  93.26  94.28  95.49  95.61  96.09  95.06  95.35  95.15  95.95  97.62\n",
      "  97.98  97.65  97.46  96.21  96.68  96.44  95.84  95.71  97.01  97.48\n",
      "  97.03  97.3   96.69  94.92  92.79  92.74  92.63  92.84  92.03  90.71\n",
      "  90.13  90.88  90.47  91.53  92.01  92.07  92.44  92.47  93.03  93.49\n",
      "  93.71  92.46  93.41  94.55  95.99  96.53  97.24  97.1   97.23  95.02\n",
      "  92.76  93.36  94.18  94.59  93.44  91.23  88.75  88.73  86.65  87.83\n",
      "  88.04  88.81  89.21  91.07  93.27  94.09  93.22  90.74  93.7   95.25\n",
      "  95.8   95.28  96.24  95.81  94.76  93.96  93.95  94.85  95.72  96.29\n",
      "  95.55  93.98  94.12  93.84  94.65  93.13  93.57  91.93  93.66  94.71\n",
      "  96.11  95.82  95.5   95.98  96.66  97.83  97.86  98.46  98.24  94.89\n",
      "  95.07  95.47  97.    96.36  97.94  99.65 101.92 103.09 103.03 103.46\n",
      " 106.41 104.77 105.85 106.2  105.88 106.39 107.94 108.   106.61 107.13\n",
      " 105.41 105.47 104.76 104.61 103.14 105.1  107.93 106.94 105.32 104.41\n",
      " 103.45 106.04 106.19 106.78 106.89 107.43 107.58 107.14 104.9  103.93\n",
      " 104.93 106.48 109.11 110.17 108.51 107.98 108.67 107.29 108.5  110.62\n",
      " 109.62 107.48 107.65 108.72 108.31 106.54 105.36 108.23 106.26 104.7\n",
      " 103.62 103.22 102.68 103.1  102.86 102.36 102.09 104.15 103.29 103.83\n",
      " 103.07 103.54 101.63 103.08 102.17 102.46 101.15 102.34 100.72 100.87\n",
      "  99.28  97.63  96.9   96.65  97.4   98.74  98.29  96.81  94.56  94.58\n",
      "  93.4   94.74  94.25  95.13  93.91  93.76  93.8   93.35  93.34  94.53\n",
      "  93.86  92.05  92.55  93.61  95.83  96.97  97.14  98.32  97.25  97.21\n",
      "  96.27  97.18  96.99  97.59  98.4   99.11  98.62  98.87  99.18  99.94\n",
      "  98.9   98.17  95.14  93.31  91.9   91.36  92.39  91.45  92.15  93.78\n",
      "  93.54  94.51  96.35  97.49  97.34  98.25  97.55  97.84  99.98 100.12\n",
      "  99.96 100.38 100.27 100.31 102.54 103.2  102.53 103.17 102.2  102.93\n",
      " 102.88 105.34 103.64 101.75 101.82 102.82 101.39 100.29  98.57  99.23\n",
      "  98.43 100.08 100.71  99.68  99.97 100.05  99.66 100.61 101.25 101.73\n",
      " 101.57  99.69  99.6  101.16 100.43 102.57 103.55 103.37 103.68 104.05\n",
      " 103.7  103.71 104.33 104.35 101.69 101.47 100.85 101.13 101.56 100.07\n",
      " 100.09  99.74  99.81 101.06 100.52 100.32 100.89 102.01 102.63 101.74\n",
      " 102.31 102.95 102.8  104.31 104.03 105.01 104.78 104.26 103.4  103.34\n",
      " 103.27 103.32 105.09 105.02 105.04 107.2  107.49 107.52 106.95 106.64\n",
      " 107.08 107.95 106.83 107.04 106.49 106.46 106.07 106.06 105.18 104.19\n",
      " 104.06 103.61 101.48 100.56 101.88 103.84 104.59 103.81 102.76 105.23\n",
      " 105.68 104.91 104.29  98.23  98.26  96.93  97.61  98.09  97.36  97.57\n",
      "  95.54  94.35  96.4   93.97  95.39  95.78  92.92  93.32  92.64  92.73\n",
      "  91.71  92.89  92.18  92.86  94.91  94.33  93.07  92.43  91.46  91.55\n",
      "  93.59  91.17  91.02  89.76  90.33  88.89  87.29  85.76  85.87  85.73\n",
      "  81.72  81.82  82.33  82.8   82.76  83.25  80.52  82.81  81.27  81.26\n",
      "  81.36  82.25  81.06  80.53  78.77  77.15  78.71  77.87  77.43  77.85\n",
      "  77.16  74.13  75.91  75.64  74.55  75.63  76.52  75.74  74.04  73.7\n",
      "  65.94  68.98  66.99  67.3   66.73  65.89  63.13  63.74  60.99  60.01\n",
      "  57.81  55.96  55.97  56.43  54.18  56.91  55.25  56.78  55.7   54.59\n",
      "  53.46  54.14  53.45  52.72  50.05  47.98  48.69  48.8   48.35  46.06\n",
      "  45.92  48.49  46.37  46.79  47.85  45.93  45.26  44.8   45.84  44.08\n",
      "  44.12  47.79  49.25  53.04  48.45  50.48  51.66  52.99  50.06  51.17\n",
      "  52.66  53.56  52.13  51.12  49.95  49.56  48.48  50.25  47.65  49.84\n",
      "  49.59  50.43  51.53  50.76  49.61  48.42  48.06  47.12  44.88  43.93\n",
      "  43.39  44.63  44.02  46.    47.4   47.03  48.75  51.41  48.83  48.66\n",
      "  47.72  50.12  49.13  52.08  53.95  50.44  50.79  51.63  51.95  53.3\n",
      "  56.25  56.69  55.71  56.37  55.58  56.17  56.59  55.98  55.56  57.05\n",
      "  58.55  59.62  59.1   58.92  60.38  60.93  58.99  59.41  59.23  60.72\n",
      "  60.5   59.89  59.73  59.44  57.3   58.96  60.18  58.88  57.29  57.51\n",
      "  57.69  60.25  60.24  61.3   59.67  58.    59.11  58.15  60.15  61.36\n",
      "  60.74  59.96  59.53  60.41  61.05  59.59  58.34  59.48  56.94  56.93\n",
      "  52.48  52.33  51.61  52.76  52.74  52.19  53.05  51.4   50.9   50.88\n",
      "  50.11  50.59  49.27  48.11  47.17  47.97  48.77  48.53  47.11  45.25\n",
      "  45.75  45.13  44.69  43.87  44.94  43.11  43.22  42.27  42.45  41.93\n",
      "  42.58  40.75  41.    40.45  38.22  39.15  38.5   42.47  45.29  49.2\n",
      "  45.38  46.3   46.75  46.02  44.13  45.85  44.75  44.07  44.58  46.93\n",
      "  44.71  46.67  46.17  44.53  45.55  44.4   45.24  45.06  45.54  46.28\n",
      "  47.86  49.46  49.67  47.09  46.7   46.63  46.38  47.3   45.91  45.22\n",
      "  44.9   43.91  43.19  43.21  46.6   46.12  47.88  46.32  45.27  44.32\n",
      "  44.23  42.95  41.74  40.69  41.68  40.73  40.55  39.39  39.27  40.89\n",
      "  41.22  40.57  40.43  40.58  39.93  41.08  40.    37.64  37.46  37.16\n",
      "  36.76  35.65  36.31  37.32  35.55  34.98  34.72  34.55  36.12  37.62\n",
      "  36.36  37.88  36.59  37.13  36.81  35.97  33.97  33.29  33.2   31.42\n",
      "  30.42  31.22  29.45  28.47  26.68  29.55  32.07  30.31  29.54  32.32\n",
      "  33.21  33.66  31.62  29.9   32.29  31.63  30.86  29.71  27.96  27.54\n",
      "  26.19  29.32  29.05  30.68  30.77  29.59  31.37  31.84  30.35  31.4\n",
      "  31.65  32.74  34.39  34.57  34.56  35.91  37.9   36.67  37.77  38.51\n",
      "  37.2   36.32  38.43  40.17  39.47  39.91  41.45  38.28  38.14  37.99\n",
      "  36.91  36.94  35.36  34.3   34.52  37.74  37.3   39.74  40.46  42.12\n",
      "  41.7   40.4   40.88  42.72  43.18  42.76  41.67  42.52  46.03  45.98\n",
      "  43.65  43.77  44.33  43.45  44.68  46.21  46.64  46.22  48.29  48.12\n",
      "  48.16  47.67  48.04  49.1   49.    49.36  49.07  49.14  49.71  50.37\n",
      "  51.23  50.52  49.09  48.89  47.92  46.14  48.    49.4   48.95  49.16\n",
      "  49.34  45.8   47.93  49.85  48.27  49.02  46.73  47.37  45.37  44.73\n",
      "  46.82  44.87  45.64  45.23  44.64  44.96  43.96  43.41  42.4   42.16\n",
      "  41.9   41.13  41.54  40.05  39.5   40.8   41.92  41.83  43.06  42.78\n",
      "  41.75  43.51  44.47  45.72  46.57  46.81  48.2   46.8   47.54  46.29\n",
      "  46.97  47.64  43.17  44.39  44.85  45.47  47.63  45.88  44.91  43.62\n",
      "  43.85  43.04  43.34  45.33  46.1   44.36  45.6   44.65  47.07  48.67\n",
      "  49.75  49.76  50.72  50.14  50.47  50.35  49.97  50.3   51.59  50.31\n",
      "  50.61  50.18  49.45  48.72  46.83  46.66  45.32  44.66  45.2   44.62\n",
      "  43.29  45.86  45.56  45.69  47.48  48.07  46.72  45.66  49.41  51.08\n",
      "  51.7   51.72  50.95  50.84  51.51  51.01  51.93  52.22  51.44  51.98\n",
      "  52.01  52.82  54.01  53.8   53.75  52.36  53.26  53.77  53.98  50.82\n",
      "  53.01  52.45  51.39  52.77  52.38  52.14  53.24  53.18  52.63  52.75\n",
      "  53.9   53.55  53.81  52.37  53.84  52.96  53.21  53.11  53.41  54.02\n",
      "  53.61  54.48  53.99  54.04  54.    53.82  53.33  53.19  52.68  49.83\n",
      "  48.05  47.95  47.24  48.34  48.3   47.02  47.29  47.    48.36  49.47\n",
      "  50.54  50.99  51.14  51.69  52.25  53.06  53.38  53.12  52.62  52.46\n",
      "  50.49  50.26  49.64  48.9   49.22  48.96  49.31  46.23  46.46  47.28\n",
      "  47.81  47.83  48.86  48.64  49.04  50.32  50.81  48.57  49.58  49.63\n",
      "  48.32  47.68  48.13  45.68  45.82  46.41  44.79  44.24  42.48  42.53\n",
      "  42.86  43.24  44.25  44.74  45.11  45.52  45.48  46.53  46.4   47.1\n",
      "  45.78  47.77  48.58  49.05  49.72  50.21  49.19  49.6   49.03  49.57\n",
      "  49.37  48.54  48.81  47.59  47.57  48.59  47.39  45.96  47.26]\n"
     ]
    }
   ],
   "source": [
    "for col in['date','dcoilwtico']:\n",
    "    print(oil[col].unique())"
   ]
  },
  {
   "cell_type": "code",
   "execution_count": 13,
   "metadata": {},
   "outputs": [
    {
     "data": {
      "text/plain": [
       "date           0\n",
       "dcoilwtico    43\n",
       "dtype: int64"
      ]
     },
     "execution_count": 13,
     "metadata": {},
     "output_type": "execute_result"
    }
   ],
   "source": [
    "oil.isnull().sum()"
   ]
  },
  {
   "cell_type": "code",
   "execution_count": null,
   "metadata": {},
   "outputs": [],
   "source": [
    "# have a missing value"
   ]
  },
  {
   "attachments": {},
   "cell_type": "markdown",
   "metadata": {},
   "source": [
    "    Test data"
   ]
  },
  {
   "cell_type": "code",
   "execution_count": 5,
   "metadata": {},
   "outputs": [
    {
     "data": {
      "text/html": [
       "<div>\n",
       "<style scoped>\n",
       "    .dataframe tbody tr th:only-of-type {\n",
       "        vertical-align: middle;\n",
       "    }\n",
       "\n",
       "    .dataframe tbody tr th {\n",
       "        vertical-align: top;\n",
       "    }\n",
       "\n",
       "    .dataframe thead th {\n",
       "        text-align: right;\n",
       "    }\n",
       "</style>\n",
       "<table border=\"1\" class=\"dataframe\">\n",
       "  <thead>\n",
       "    <tr style=\"text-align: right;\">\n",
       "      <th></th>\n",
       "      <th>id</th>\n",
       "      <th>date</th>\n",
       "      <th>store_nbr</th>\n",
       "      <th>family</th>\n",
       "      <th>onpromotion</th>\n",
       "    </tr>\n",
       "  </thead>\n",
       "  <tbody>\n",
       "    <tr>\n",
       "      <th>0</th>\n",
       "      <td>3000888</td>\n",
       "      <td>2017-08-16</td>\n",
       "      <td>1</td>\n",
       "      <td>AUTOMOTIVE</td>\n",
       "      <td>0</td>\n",
       "    </tr>\n",
       "    <tr>\n",
       "      <th>1</th>\n",
       "      <td>3000889</td>\n",
       "      <td>2017-08-16</td>\n",
       "      <td>1</td>\n",
       "      <td>BABY CARE</td>\n",
       "      <td>0</td>\n",
       "    </tr>\n",
       "    <tr>\n",
       "      <th>2</th>\n",
       "      <td>3000890</td>\n",
       "      <td>2017-08-16</td>\n",
       "      <td>1</td>\n",
       "      <td>BEAUTY</td>\n",
       "      <td>2</td>\n",
       "    </tr>\n",
       "    <tr>\n",
       "      <th>3</th>\n",
       "      <td>3000891</td>\n",
       "      <td>2017-08-16</td>\n",
       "      <td>1</td>\n",
       "      <td>BEVERAGES</td>\n",
       "      <td>20</td>\n",
       "    </tr>\n",
       "    <tr>\n",
       "      <th>4</th>\n",
       "      <td>3000892</td>\n",
       "      <td>2017-08-16</td>\n",
       "      <td>1</td>\n",
       "      <td>BOOKS</td>\n",
       "      <td>0</td>\n",
       "    </tr>\n",
       "  </tbody>\n",
       "</table>\n",
       "</div>"
      ],
      "text/plain": [
       "        id        date  store_nbr      family  onpromotion\n",
       "0  3000888  2017-08-16          1  AUTOMOTIVE            0\n",
       "1  3000889  2017-08-16          1   BABY CARE            0\n",
       "2  3000890  2017-08-16          1      BEAUTY            2\n",
       "3  3000891  2017-08-16          1   BEVERAGES           20\n",
       "4  3000892  2017-08-16          1       BOOKS            0"
      ]
     },
     "execution_count": 5,
     "metadata": {},
     "output_type": "execute_result"
    }
   ],
   "source": [
    "test = pd.read_csv('test.csv')\n",
    "test.head(5)"
   ]
  },
  {
   "cell_type": "code",
   "execution_count": 15,
   "metadata": {},
   "outputs": [
    {
     "name": "stdout",
     "output_type": "stream",
     "text": [
      "<class 'pandas.core.frame.DataFrame'>\n",
      "RangeIndex: 28512 entries, 0 to 28511\n",
      "Data columns (total 5 columns):\n",
      " #   Column       Non-Null Count  Dtype \n",
      "---  ------       --------------  ----- \n",
      " 0   id           28512 non-null  int64 \n",
      " 1   date         28512 non-null  object\n",
      " 2   store_nbr    28512 non-null  int64 \n",
      " 3   family       28512 non-null  object\n",
      " 4   onpromotion  28512 non-null  int64 \n",
      "dtypes: int64(3), object(2)\n",
      "memory usage: 1.1+ MB\n"
     ]
    }
   ],
   "source": [
    "test.info()"
   ]
  },
  {
   "cell_type": "code",
   "execution_count": 16,
   "metadata": {},
   "outputs": [
    {
     "name": "stdout",
     "output_type": "stream",
     "text": [
      "[3000888 3000889 3000890 ... 3029397 3029398 3029399]\n",
      "['2017-08-16' '2017-08-17' '2017-08-18' '2017-08-19' '2017-08-20'\n",
      " '2017-08-21' '2017-08-22' '2017-08-23' '2017-08-24' '2017-08-25'\n",
      " '2017-08-26' '2017-08-27' '2017-08-28' '2017-08-29' '2017-08-30'\n",
      " '2017-08-31']\n",
      "[ 1 10 11 12 13 14 15 16 17 18 19  2 20 21 22 23 24 25 26 27 28 29  3 30\n",
      " 31 32 33 34 35 36 37 38 39  4 40 41 42 43 44 45 46 47 48 49  5 50 51 52\n",
      " 53 54  6  7  8  9]\n",
      "['AUTOMOTIVE' 'BABY CARE' 'BEAUTY' 'BEVERAGES' 'BOOKS' 'BREAD/BAKERY'\n",
      " 'CELEBRATION' 'CLEANING' 'DAIRY' 'DELI' 'EGGS' 'FROZEN FOODS' 'GROCERY I'\n",
      " 'GROCERY II' 'HARDWARE' 'HOME AND KITCHEN I' 'HOME AND KITCHEN II'\n",
      " 'HOME APPLIANCES' 'HOME CARE' 'LADIESWEAR' 'LAWN AND GARDEN' 'LINGERIE'\n",
      " 'LIQUOR,WINE,BEER' 'MAGAZINES' 'MEATS' 'PERSONAL CARE' 'PET SUPPLIES'\n",
      " 'PLAYERS AND ELECTRONICS' 'POULTRY' 'PREPARED FOODS' 'PRODUCE'\n",
      " 'SCHOOL AND OFFICE SUPPLIES' 'SEAFOOD']\n",
      "[  0   2  20  12  25  45  18   1  64   6  10  16   5   9 256  14  43  15\n",
      "  30 106  96  19 230  52  35 145 102   4   3   8 163  38  17  29 115  87\n",
      " 219  33 107  90 244  31 114  88 223  32 105 208  34 108  97 211 139  91\n",
      " 177  40 161  21 156  39  28 116  89 220  23  22  41  65  11 255 150  92\n",
      " 178  13  46 148  98 170  37 122 203  24  70 253  63 254  44  42 252  47\n",
      " 151 101 175  36 152 104 168  60 110  93 205 141 172  94 225 126  95 197\n",
      " 138 212 142  99 173  26  57  51 155  61 129 182  62 146 159  56  59 154\n",
      " 158   7  53  27  68  66  69  49  50  48  55  54  58  74  72  78  77  73\n",
      "  84  76  80  67  79 133  86 144 125 137 140 160 119 127 128  83  81  82\n",
      " 118 124 180 210 131 228 112 135 186 202 237 224 218 171 206 191 229  71\n",
      "  85 117  75 136 103 214 165 490 217 184 494 123 132 100 143 130 278 215\n",
      " 646 209 190 120 236 226 216 248 231 189 258 213 111 592]\n"
     ]
    }
   ],
   "source": [
    "for col in ['id','date','store_nbr','family','onpromotion']:\n",
    "    print(test[col].unique())"
   ]
  },
  {
   "cell_type": "code",
   "execution_count": 17,
   "metadata": {},
   "outputs": [
    {
     "data": {
      "text/plain": [
       "id             0\n",
       "date           0\n",
       "store_nbr      0\n",
       "family         0\n",
       "onpromotion    0\n",
       "dtype: int64"
      ]
     },
     "execution_count": 17,
     "metadata": {},
     "output_type": "execute_result"
    }
   ],
   "source": [
    "test.isnull().sum()"
   ]
  },
  {
   "attachments": {},
   "cell_type": "markdown",
   "metadata": {},
   "source": [
    "    Transaction data"
   ]
  },
  {
   "cell_type": "code",
   "execution_count": 6,
   "metadata": {},
   "outputs": [
    {
     "data": {
      "text/html": [
       "<div>\n",
       "<style scoped>\n",
       "    .dataframe tbody tr th:only-of-type {\n",
       "        vertical-align: middle;\n",
       "    }\n",
       "\n",
       "    .dataframe tbody tr th {\n",
       "        vertical-align: top;\n",
       "    }\n",
       "\n",
       "    .dataframe thead th {\n",
       "        text-align: right;\n",
       "    }\n",
       "</style>\n",
       "<table border=\"1\" class=\"dataframe\">\n",
       "  <thead>\n",
       "    <tr style=\"text-align: right;\">\n",
       "      <th></th>\n",
       "      <th>date</th>\n",
       "      <th>store_nbr</th>\n",
       "      <th>transactions</th>\n",
       "    </tr>\n",
       "  </thead>\n",
       "  <tbody>\n",
       "    <tr>\n",
       "      <th>0</th>\n",
       "      <td>2013-01-01</td>\n",
       "      <td>25</td>\n",
       "      <td>770</td>\n",
       "    </tr>\n",
       "    <tr>\n",
       "      <th>1</th>\n",
       "      <td>2013-01-02</td>\n",
       "      <td>1</td>\n",
       "      <td>2111</td>\n",
       "    </tr>\n",
       "    <tr>\n",
       "      <th>2</th>\n",
       "      <td>2013-01-02</td>\n",
       "      <td>2</td>\n",
       "      <td>2358</td>\n",
       "    </tr>\n",
       "    <tr>\n",
       "      <th>3</th>\n",
       "      <td>2013-01-02</td>\n",
       "      <td>3</td>\n",
       "      <td>3487</td>\n",
       "    </tr>\n",
       "    <tr>\n",
       "      <th>4</th>\n",
       "      <td>2013-01-02</td>\n",
       "      <td>4</td>\n",
       "      <td>1922</td>\n",
       "    </tr>\n",
       "  </tbody>\n",
       "</table>\n",
       "</div>"
      ],
      "text/plain": [
       "         date  store_nbr  transactions\n",
       "0  2013-01-01         25           770\n",
       "1  2013-01-02          1          2111\n",
       "2  2013-01-02          2          2358\n",
       "3  2013-01-02          3          3487\n",
       "4  2013-01-02          4          1922"
      ]
     },
     "execution_count": 6,
     "metadata": {},
     "output_type": "execute_result"
    }
   ],
   "source": [
    "transactions = pd.read_csv('transactions.csv')\n",
    "transactions.head(5)"
   ]
  },
  {
   "cell_type": "code",
   "execution_count": 19,
   "metadata": {},
   "outputs": [
    {
     "name": "stdout",
     "output_type": "stream",
     "text": [
      "<class 'pandas.core.frame.DataFrame'>\n",
      "RangeIndex: 83488 entries, 0 to 83487\n",
      "Data columns (total 3 columns):\n",
      " #   Column        Non-Null Count  Dtype \n",
      "---  ------        --------------  ----- \n",
      " 0   date          83488 non-null  object\n",
      " 1   store_nbr     83488 non-null  int64 \n",
      " 2   transactions  83488 non-null  int64 \n",
      "dtypes: int64(2), object(1)\n",
      "memory usage: 1.9+ MB\n"
     ]
    }
   ],
   "source": [
    "transactions.info()"
   ]
  },
  {
   "cell_type": "code",
   "execution_count": 20,
   "metadata": {},
   "outputs": [
    {
     "name": "stdout",
     "output_type": "stream",
     "text": [
      "['2013-01-01' '2013-01-02' '2013-01-03' ... '2017-08-13' '2017-08-14'\n",
      " '2017-08-15']\n",
      "[25  1  2  3  4  5  6  7  8  9 10 11 12 13 14 15 16 17 18 19 23 24 26 27\n",
      " 28 30 31 32 33 34 35 37 38 39 40 41 43 44 45 46 47 48 49 50 51 54 36 53\n",
      " 20 29 21 42 22 52]\n",
      "[ 770 2111 2358 ... 4553 4400 4392]\n"
     ]
    }
   ],
   "source": [
    "for col in ['date','store_nbr','transactions']:\n",
    "    print(transactions[col].unique())"
   ]
  },
  {
   "cell_type": "code",
   "execution_count": 21,
   "metadata": {},
   "outputs": [
    {
     "data": {
      "text/plain": [
       "date            0\n",
       "store_nbr       0\n",
       "transactions    0\n",
       "dtype: int64"
      ]
     },
     "execution_count": 21,
     "metadata": {},
     "output_type": "execute_result"
    }
   ],
   "source": [
    "transactions.isnull().sum()"
   ]
  },
  {
   "attachments": {},
   "cell_type": "markdown",
   "metadata": {},
   "source": [
    "# Exploratory Data"
   ]
  },
  {
   "cell_type": "code",
   "execution_count": 7,
   "metadata": {},
   "outputs": [],
   "source": [
    "import numpy as np \n",
    "import matplotlib.pyplot as plt\n",
    "%matplotlib inline"
   ]
  },
  {
   "cell_type": "code",
   "execution_count": 6,
   "metadata": {},
   "outputs": [
    {
     "data": {
      "text/html": [
       "<div>\n",
       "<style scoped>\n",
       "    .dataframe tbody tr th:only-of-type {\n",
       "        vertical-align: middle;\n",
       "    }\n",
       "\n",
       "    .dataframe tbody tr th {\n",
       "        vertical-align: top;\n",
       "    }\n",
       "\n",
       "    .dataframe thead th {\n",
       "        text-align: right;\n",
       "    }\n",
       "</style>\n",
       "<table border=\"1\" class=\"dataframe\">\n",
       "  <thead>\n",
       "    <tr style=\"text-align: right;\">\n",
       "      <th></th>\n",
       "      <th>date</th>\n",
       "      <th>store_nbr</th>\n",
       "      <th>transactions</th>\n",
       "    </tr>\n",
       "  </thead>\n",
       "  <tbody>\n",
       "    <tr>\n",
       "      <th>0</th>\n",
       "      <td>2013-01-01</td>\n",
       "      <td>25</td>\n",
       "      <td>770</td>\n",
       "    </tr>\n",
       "    <tr>\n",
       "      <th>1</th>\n",
       "      <td>2013-01-02</td>\n",
       "      <td>1</td>\n",
       "      <td>2111</td>\n",
       "    </tr>\n",
       "    <tr>\n",
       "      <th>2</th>\n",
       "      <td>2013-01-02</td>\n",
       "      <td>2</td>\n",
       "      <td>2358</td>\n",
       "    </tr>\n",
       "    <tr>\n",
       "      <th>3</th>\n",
       "      <td>2013-01-02</td>\n",
       "      <td>3</td>\n",
       "      <td>3487</td>\n",
       "    </tr>\n",
       "    <tr>\n",
       "      <th>4</th>\n",
       "      <td>2013-01-02</td>\n",
       "      <td>4</td>\n",
       "      <td>1922</td>\n",
       "    </tr>\n",
       "  </tbody>\n",
       "</table>\n",
       "</div>"
      ],
      "text/plain": [
       "         date  store_nbr  transactions\n",
       "0  2013-01-01         25           770\n",
       "1  2013-01-02          1          2111\n",
       "2  2013-01-02          2          2358\n",
       "3  2013-01-02          3          3487\n",
       "4  2013-01-02          4          1922"
      ]
     },
     "execution_count": 6,
     "metadata": {},
     "output_type": "execute_result"
    }
   ],
   "source": [
    "transactions.head(5)"
   ]
  },
  {
   "cell_type": "code",
   "execution_count": 115,
   "metadata": {},
   "outputs": [
    {
     "data": {
      "text/html": [
       "<div>\n",
       "<style scoped>\n",
       "    .dataframe tbody tr th:only-of-type {\n",
       "        vertical-align: middle;\n",
       "    }\n",
       "\n",
       "    .dataframe tbody tr th {\n",
       "        vertical-align: top;\n",
       "    }\n",
       "\n",
       "    .dataframe thead th {\n",
       "        text-align: right;\n",
       "    }\n",
       "</style>\n",
       "<table border=\"1\" class=\"dataframe\">\n",
       "  <thead>\n",
       "    <tr style=\"text-align: right;\">\n",
       "      <th></th>\n",
       "      <th>date</th>\n",
       "      <th>store_nbr</th>\n",
       "      <th>transactions</th>\n",
       "      <th>year</th>\n",
       "    </tr>\n",
       "  </thead>\n",
       "  <tbody>\n",
       "    <tr>\n",
       "      <th>0</th>\n",
       "      <td>2013-01-01</td>\n",
       "      <td>25</td>\n",
       "      <td>770</td>\n",
       "      <td>2013</td>\n",
       "    </tr>\n",
       "    <tr>\n",
       "      <th>1</th>\n",
       "      <td>2013-01-02</td>\n",
       "      <td>1</td>\n",
       "      <td>2111</td>\n",
       "      <td>2013</td>\n",
       "    </tr>\n",
       "    <tr>\n",
       "      <th>2</th>\n",
       "      <td>2013-01-02</td>\n",
       "      <td>2</td>\n",
       "      <td>2358</td>\n",
       "      <td>2013</td>\n",
       "    </tr>\n",
       "    <tr>\n",
       "      <th>3</th>\n",
       "      <td>2013-01-02</td>\n",
       "      <td>3</td>\n",
       "      <td>3487</td>\n",
       "      <td>2013</td>\n",
       "    </tr>\n",
       "    <tr>\n",
       "      <th>4</th>\n",
       "      <td>2013-01-02</td>\n",
       "      <td>4</td>\n",
       "      <td>1922</td>\n",
       "      <td>2013</td>\n",
       "    </tr>\n",
       "    <tr>\n",
       "      <th>...</th>\n",
       "      <td>...</td>\n",
       "      <td>...</td>\n",
       "      <td>...</td>\n",
       "      <td>...</td>\n",
       "    </tr>\n",
       "    <tr>\n",
       "      <th>83483</th>\n",
       "      <td>2017-08-15</td>\n",
       "      <td>50</td>\n",
       "      <td>2804</td>\n",
       "      <td>2017</td>\n",
       "    </tr>\n",
       "    <tr>\n",
       "      <th>83484</th>\n",
       "      <td>2017-08-15</td>\n",
       "      <td>51</td>\n",
       "      <td>1573</td>\n",
       "      <td>2017</td>\n",
       "    </tr>\n",
       "    <tr>\n",
       "      <th>83485</th>\n",
       "      <td>2017-08-15</td>\n",
       "      <td>52</td>\n",
       "      <td>2255</td>\n",
       "      <td>2017</td>\n",
       "    </tr>\n",
       "    <tr>\n",
       "      <th>83486</th>\n",
       "      <td>2017-08-15</td>\n",
       "      <td>53</td>\n",
       "      <td>932</td>\n",
       "      <td>2017</td>\n",
       "    </tr>\n",
       "    <tr>\n",
       "      <th>83487</th>\n",
       "      <td>2017-08-15</td>\n",
       "      <td>54</td>\n",
       "      <td>802</td>\n",
       "      <td>2017</td>\n",
       "    </tr>\n",
       "  </tbody>\n",
       "</table>\n",
       "<p>83488 rows × 4 columns</p>\n",
       "</div>"
      ],
      "text/plain": [
       "             date  store_nbr  transactions  year\n",
       "0      2013-01-01         25           770  2013\n",
       "1      2013-01-02          1          2111  2013\n",
       "2      2013-01-02          2          2358  2013\n",
       "3      2013-01-02          3          3487  2013\n",
       "4      2013-01-02          4          1922  2013\n",
       "...           ...        ...           ...   ...\n",
       "83483  2017-08-15         50          2804  2017\n",
       "83484  2017-08-15         51          1573  2017\n",
       "83485  2017-08-15         52          2255  2017\n",
       "83486  2017-08-15         53           932  2017\n",
       "83487  2017-08-15         54           802  2017\n",
       "\n",
       "[83488 rows x 4 columns]"
      ]
     },
     "execution_count": 115,
     "metadata": {},
     "output_type": "execute_result"
    }
   ],
   "source": [
    "transactions['year'] = pd.to_datetime(transactions['date']).dt.year\n",
    "transactions"
   ]
  },
  {
   "cell_type": "code",
   "execution_count": 80,
   "metadata": {},
   "outputs": [
    {
     "name": "stdout",
     "output_type": "stream",
     "text": [
      "<class 'pandas.core.frame.DataFrame'>\n",
      "RangeIndex: 83488 entries, 0 to 83487\n",
      "Data columns (total 4 columns):\n",
      " #   Column        Non-Null Count  Dtype \n",
      "---  ------        --------------  ----- \n",
      " 0   date          83488 non-null  object\n",
      " 1   store_nbr     83488 non-null  int64 \n",
      " 2   transactions  83488 non-null  int64 \n",
      " 3   year          83488 non-null  int64 \n",
      "dtypes: int64(3), object(1)\n",
      "memory usage: 2.5+ MB\n"
     ]
    }
   ],
   "source": [
    "transactions.info()"
   ]
  },
  {
   "cell_type": "code",
   "execution_count": 116,
   "metadata": {},
   "outputs": [
    {
     "data": {
      "text/plain": [
       "Text(0.5, 1.0, 'Average Transactions per Year')"
      ]
     },
     "execution_count": 116,
     "metadata": {},
     "output_type": "execute_result"
    },
    {
     "data": {
      "image/png": "[encoded data removed]",
      "text/plain": [
       "<Figure size 936x360 with 1 Axes>"
      ]
     },
     "metadata": {
      "needs_background": "light"
     },
     "output_type": "display_data"
    }
   ],
   "source": [
    "#  Average sales per year\n",
    "plt.figure(figsize=(13,5))\n",
    "transactions.groupby('year')['transactions'].mean().plot()\n",
    "plt.title(\"Average Transactions per Year\",\n",
    "            fontsize=13,\n",
    "            fontweight='bold',\n",
    "            fontfamily='serif',\n",
    "            loc='center')"
   ]
  },
  {
   "cell_type": "code",
   "execution_count": 36,
   "metadata": {},
   "outputs": [],
   "source": [
    "# in this data, we can see that the average transaction per year has decreased"
   ]
  },
  {
   "cell_type": "code",
   "execution_count": 117,
   "metadata": {},
   "outputs": [],
   "source": [
    "# convert date column to datetime and sutract one week\n",
    "transactions['date'] = pd.to_datetime(transactions['date']) - pd.to_timedelta(7, unit='d')"
   ]
  },
  {
   "cell_type": "code",
   "execution_count": 118,
   "metadata": {},
   "outputs": [
    {
     "data": {
      "text/plain": [
       "Text(0.5, 1.0, 'Average Transactions per Week')"
      ]
     },
     "execution_count": 118,
     "metadata": {},
     "output_type": "execute_result"
    },
    {
     "data": {
      "image/png": "[encoded data removed]",
      "text/plain": [
       "<Figure size 936x360 with 1 Axes>"
      ]
     },
     "metadata": {
      "needs_background": "light"
     },
     "output_type": "display_data"
    }
   ],
   "source": [
    "# grouping sales data, column date for a week and make a plot\n",
    "plt.figure(figsize=(13,5))\n",
    "transactions.groupby([pd.Grouper(key='date', freq='W')])['transactions'].mean().plot()\n",
    "plt.title(\"Average Transactions per Week\",\n",
    "            fontsize=13,\n",
    "            fontweight='bold',\n",
    "            fontfamily='serif',\n",
    "            loc='center')"
   ]
  },
  {
   "cell_type": "code",
   "execution_count": 119,
   "metadata": {},
   "outputs": [
    {
     "data": {
      "text/plain": [
       "date\n",
       "2012-12-30    1883.203463\n",
       "2013-01-06    1641.090062\n",
       "2013-01-13    1639.024845\n",
       "2013-01-20    1609.816770\n",
       "2013-01-27    1685.263975\n",
       "                 ...     \n",
       "2017-07-16    1623.208995\n",
       "2017-07-23    1619.653439\n",
       "2017-07-30    1713.743386\n",
       "2017-08-06    1599.156085\n",
       "2017-08-13    1592.675926\n",
       "Freq: W-SUN, Name: transactions, Length: 242, dtype: float64"
      ]
     },
     "execution_count": 119,
     "metadata": {},
     "output_type": "execute_result"
    }
   ],
   "source": [
    "# from here we can learn about transaction every week\n",
    "transactions.groupby([pd.Grouper(key='date', freq='W')])['transactions'].mean()"
   ]
  },
  {
   "cell_type": "code",
   "execution_count": null,
   "metadata": {},
   "outputs": [],
   "source": [
    "# in here, we can learn that there is an average 1883,2 transaction made during the week starting the day after 30/12/2012"
   ]
  },
  {
   "cell_type": "code",
   "execution_count": 120,
   "metadata": {},
   "outputs": [],
   "source": [
    "# drop store_nbr from data\n",
    "colsTodrop=['store_nbr']\n",
    "transactions.drop(colsTodrop, axis=1, inplace=True)"
   ]
  },
  {
   "cell_type": "code",
   "execution_count": 121,
   "metadata": {},
   "outputs": [
    {
     "data": {
      "text/plain": [
       "<pandas.core.groupby.generic.DataFrameGroupBy object at 0x000001CB490D0FA0>"
      ]
     },
     "execution_count": 121,
     "metadata": {},
     "output_type": "execute_result"
    }
   ],
   "source": [
    "# convert format date column\n",
    "transactions.index = pd.to_datetime(transactions['date'], format='%y/%m/%d')\n",
    "transactions.groupby(by=[transactions.index.month, transactions.index.year])"
   ]
  },
  {
   "cell_type": "code",
   "execution_count": 122,
   "metadata": {},
   "outputs": [],
   "source": [
    "# format column year into %Y (datetime64)\n",
    "transactions['year'] = pd.to_datetime(transactions['year'],format='%Y/%m/%d')"
   ]
  },
  {
   "cell_type": "code",
   "execution_count": 123,
   "metadata": {},
   "outputs": [
    {
     "data": {
      "text/plain": [
       "Text(0.5, 1.0, 'Average Transactions per Month')"
      ]
     },
     "execution_count": 123,
     "metadata": {},
     "output_type": "execute_result"
    },
    {
     "data": {
      "text/plain": [
       "<Figure size 1800x720 with 0 Axes>"
      ]
     },
     "metadata": {},
     "output_type": "display_data"
    },
    {
     "data": {
      "image/png": "[encoded data removed]",
      "text/plain": [
       "<Figure size 432x288 with 1 Axes>"
      ]
     },
     "metadata": {
      "needs_background": "light"
     },
     "output_type": "display_data"
    }
   ],
   "source": [
    "# grouping data transactions by month \n",
    "plt.figure(figsize=(25,10))\n",
    "GT = transactions.groupby(pd.Grouper(freq='M')).mean().plot()\n",
    "plt.title(\"Average Transactions per Month\",\n",
    "            fontsize=13,\n",
    "            fontweight='bold',\n",
    "            fontfamily='serif',\n",
    "            loc='center')"
   ]
  },
  {
   "cell_type": "code",
   "execution_count": null,
   "metadata": {},
   "outputs": [],
   "source": [
    "# we can see that in 2015 and 2016 had lowest transactions are made."
   ]
  },
  {
   "cell_type": "code",
   "execution_count": 128,
   "metadata": {},
   "outputs": [
    {
     "data": {
      "text/plain": [
       "store_nbr\n",
       "1    2553963\n",
       "2    3219901\n",
       "3    5366350\n",
       "4    2519007\n",
       "5    2347877\n",
       "Name: transactions, dtype: int64"
      ]
     },
     "execution_count": 128,
     "metadata": {},
     "output_type": "execute_result"
    }
   ],
   "source": [
    "# in this section, we can see the largest store_nbr made a transactions \n",
    "GB_trans = transactions.groupby('store_nbr')['transactions'].sum()\n",
    "GB_trans.head(5)"
   ]
  },
  {
   "cell_type": "code",
   "execution_count": 133,
   "metadata": {},
   "outputs": [
    {
     "data": {
      "text/plain": [
       "Text(0.5, 1.0, 'Transactions by Store')"
      ]
     },
     "execution_count": 133,
     "metadata": {},
     "output_type": "execute_result"
    },
    {
     "data": {
      "image/png": "[encoded data removed]",
      "text/plain": [
       "<Figure size 1080x576 with 1 Axes>"
      ]
     },
     "metadata": {
      "needs_background": "light"
     },
     "output_type": "display_data"
    }
   ],
   "source": [
    "GB_trans.sort_values(ascending=False).plot.bar(figsize=(15,8))\n",
    "plt.title(\"Transactions by Store\",\n",
    "            fontsize=13,\n",
    "            fontweight='bold',\n",
    "            fontfamily='serif',\n",
    "            loc='center')"
   ]
  },
  {
   "cell_type": "code",
   "execution_count": 69,
   "metadata": {},
   "outputs": [
    {
     "data": {
      "text/plain": [
       "store_nbr           44\n",
       "city             Quito\n",
       "state        Pichincha\n",
       "type                 A\n",
       "cluster              5\n",
       "Name: 43, dtype: object"
      ]
     },
     "execution_count": 69,
     "metadata": {},
     "output_type": "execute_result"
    }
   ],
   "source": [
    "stores.iloc[43,[0,1,2,3,4]]"
   ]
  },
  {
   "cell_type": "code",
   "execution_count": 70,
   "metadata": {},
   "outputs": [
    {
     "data": {
      "text/plain": [
       "store_nbr           47\n",
       "city             Quito\n",
       "state        Pichincha\n",
       "type                 A\n",
       "cluster             14\n",
       "Name: 46, dtype: object"
      ]
     },
     "execution_count": 70,
     "metadata": {},
     "output_type": "execute_result"
    }
   ],
   "source": [
    "stores.iloc[46,[0,1,2,3,4]]"
   ]
  },
  {
   "cell_type": "code",
   "execution_count": 71,
   "metadata": {},
   "outputs": [
    {
     "data": {
      "text/plain": [
       "store_nbr           45\n",
       "city             Quito\n",
       "state        Pichincha\n",
       "type                 A\n",
       "cluster             11\n",
       "Name: 44, dtype: object"
      ]
     },
     "execution_count": 71,
     "metadata": {},
     "output_type": "execute_result"
    }
   ],
   "source": [
    "stores.iloc[44,[0,1,2,3,4]]"
   ]
  },
  {
   "cell_type": "code",
   "execution_count": 72,
   "metadata": {},
   "outputs": [
    {
     "data": {
      "text/plain": [
       "store_nbr           46\n",
       "city             Quito\n",
       "state        Pichincha\n",
       "type                 A\n",
       "cluster             14\n",
       "Name: 45, dtype: object"
      ]
     },
     "execution_count": 72,
     "metadata": {},
     "output_type": "execute_result"
    }
   ],
   "source": [
    "stores.iloc[45,[0,1,2,3,4]]"
   ]
  },
  {
   "cell_type": "code",
   "execution_count": 73,
   "metadata": {},
   "outputs": [
    {
     "data": {
      "text/plain": [
       "store_nbr            3\n",
       "city             Quito\n",
       "state        Pichincha\n",
       "type                 D\n",
       "cluster              8\n",
       "Name: 2, dtype: object"
      ]
     },
     "execution_count": 73,
     "metadata": {},
     "output_type": "execute_result"
    }
   ],
   "source": [
    "stores.iloc[2,[0,1,2,3,4]]"
   ]
  },
  {
   "cell_type": "code",
   "execution_count": null,
   "metadata": {},
   "outputs": [],
   "source": [
    "# as we can see that the top 5 largest store is made transaction in store 44,47,45,46,and 3.\n",
    "# also, from the store, we can see the city made a transaction"
   ]
  },
  {
   "cell_type": "code",
   "execution_count": 8,
   "metadata": {},
   "outputs": [
    {
     "data": {
      "text/html": [
       "<div>\n",
       "<style scoped>\n",
       "    .dataframe tbody tr th:only-of-type {\n",
       "        vertical-align: middle;\n",
       "    }\n",
       "\n",
       "    .dataframe tbody tr th {\n",
       "        vertical-align: top;\n",
       "    }\n",
       "\n",
       "    .dataframe thead th {\n",
       "        text-align: right;\n",
       "    }\n",
       "</style>\n",
       "<table border=\"1\" class=\"dataframe\">\n",
       "  <thead>\n",
       "    <tr style=\"text-align: right;\">\n",
       "      <th></th>\n",
       "      <th>id</th>\n",
       "      <th>date</th>\n",
       "      <th>store_nbr</th>\n",
       "      <th>family</th>\n",
       "      <th>sales</th>\n",
       "      <th>onpromotion</th>\n",
       "    </tr>\n",
       "  </thead>\n",
       "  <tbody>\n",
       "    <tr>\n",
       "      <th>2163723</th>\n",
       "      <td>2163723</td>\n",
       "      <td>2016-05-02</td>\n",
       "      <td>2</td>\n",
       "      <td>GROCERY I</td>\n",
       "      <td>124717.000</td>\n",
       "      <td>59</td>\n",
       "    </tr>\n",
       "    <tr>\n",
       "      <th>2445984</th>\n",
       "      <td>2445984</td>\n",
       "      <td>2016-10-07</td>\n",
       "      <td>39</td>\n",
       "      <td>MEATS</td>\n",
       "      <td>89576.360</td>\n",
       "      <td>0</td>\n",
       "    </tr>\n",
       "    <tr>\n",
       "      <th>2144154</th>\n",
       "      <td>2144154</td>\n",
       "      <td>2016-04-21</td>\n",
       "      <td>20</td>\n",
       "      <td>GROCERY I</td>\n",
       "      <td>87438.516</td>\n",
       "      <td>53</td>\n",
       "    </tr>\n",
       "    <tr>\n",
       "      <th>2139699</th>\n",
       "      <td>2139699</td>\n",
       "      <td>2016-04-18</td>\n",
       "      <td>45</td>\n",
       "      <td>GROCERY I</td>\n",
       "      <td>76090.000</td>\n",
       "      <td>38</td>\n",
       "    </tr>\n",
       "    <tr>\n",
       "      <th>2153031</th>\n",
       "      <td>2153031</td>\n",
       "      <td>2016-04-26</td>\n",
       "      <td>2</td>\n",
       "      <td>GROCERY I</td>\n",
       "      <td>63434.000</td>\n",
       "      <td>30</td>\n",
       "    </tr>\n",
       "    <tr>\n",
       "      <th>2145045</th>\n",
       "      <td>2145045</td>\n",
       "      <td>2016-04-21</td>\n",
       "      <td>45</td>\n",
       "      <td>GROCERY I</td>\n",
       "      <td>53874.000</td>\n",
       "      <td>44</td>\n",
       "    </tr>\n",
       "    <tr>\n",
       "      <th>562596</th>\n",
       "      <td>562596</td>\n",
       "      <td>2013-11-12</td>\n",
       "      <td>44</td>\n",
       "      <td>GROCERY I</td>\n",
       "      <td>46271.000</td>\n",
       "      <td>0</td>\n",
       "    </tr>\n",
       "    <tr>\n",
       "      <th>1257246</th>\n",
       "      <td>1257246</td>\n",
       "      <td>2014-12-08</td>\n",
       "      <td>35</td>\n",
       "      <td>GROCERY I</td>\n",
       "      <td>45361.000</td>\n",
       "      <td>3</td>\n",
       "    </tr>\n",
       "    <tr>\n",
       "      <th>1916586</th>\n",
       "      <td>1916586</td>\n",
       "      <td>2015-12-14</td>\n",
       "      <td>35</td>\n",
       "      <td>GROCERY I</td>\n",
       "      <td>40351.460</td>\n",
       "      <td>7</td>\n",
       "    </tr>\n",
       "    <tr>\n",
       "      <th>2760297</th>\n",
       "      <td>2760297</td>\n",
       "      <td>2017-04-02</td>\n",
       "      <td>9</td>\n",
       "      <td>GROCERY I</td>\n",
       "      <td>38422.625</td>\n",
       "      <td>73</td>\n",
       "    </tr>\n",
       "  </tbody>\n",
       "</table>\n",
       "</div>"
      ],
      "text/plain": [
       "              id        date  store_nbr     family       sales  onpromotion\n",
       "2163723  2163723  2016-05-02          2  GROCERY I  124717.000           59\n",
       "2445984  2445984  2016-10-07         39      MEATS   89576.360            0\n",
       "2144154  2144154  2016-04-21         20  GROCERY I   87438.516           53\n",
       "2139699  2139699  2016-04-18         45  GROCERY I   76090.000           38\n",
       "2153031  2153031  2016-04-26          2  GROCERY I   63434.000           30\n",
       "2145045  2145045  2016-04-21         45  GROCERY I   53874.000           44\n",
       "562596    562596  2013-11-12         44  GROCERY I   46271.000            0\n",
       "1257246  1257246  2014-12-08         35  GROCERY I   45361.000            3\n",
       "1916586  1916586  2015-12-14         35  GROCERY I   40351.460            7\n",
       "2760297  2760297  2017-04-02          9  GROCERY I   38422.625           73"
      ]
     },
     "execution_count": 8,
     "metadata": {},
     "output_type": "execute_result"
    }
   ],
   "source": [
    "# analyze family that a largest sales\n",
    "LS = train.sort_values(by=['sales'],ascending=False)\n",
    "LS.head(10)"
   ]
  },
  {
   "cell_type": "code",
   "execution_count": null,
   "metadata": {},
   "outputs": [],
   "source": [
    "# we can see that a largest sales is in 2016 years"
   ]
  },
  {
   "attachments": {},
   "cell_type": "markdown",
   "metadata": {},
   "source": [
    "<h3>Anova</h3>"
   ]
  },
  {
   "cell_type": "code",
   "execution_count": 19,
   "metadata": {},
   "outputs": [],
   "source": [
    "import scipy.stats as stats\n",
    "from scipy.stats import f_oneway\n",
    "\n",
    "#get anova table as R like output\n",
    "import statsmodels.api as sm \n",
    "from statsmodels.formula.api import ols"
   ]
  },
  {
   "cell_type": "code",
   "execution_count": 21,
   "metadata": {},
   "outputs": [
    {
     "data": {
      "text/html": [
       "<div>\n",
       "<style scoped>\n",
       "    .dataframe tbody tr th:only-of-type {\n",
       "        vertical-align: middle;\n",
       "    }\n",
       "\n",
       "    .dataframe tbody tr th {\n",
       "        vertical-align: top;\n",
       "    }\n",
       "\n",
       "    .dataframe thead th {\n",
       "        text-align: right;\n",
       "    }\n",
       "</style>\n",
       "<table border=\"1\" class=\"dataframe\">\n",
       "  <thead>\n",
       "    <tr style=\"text-align: right;\">\n",
       "      <th></th>\n",
       "      <th>id</th>\n",
       "      <th>date</th>\n",
       "      <th>store_nbr</th>\n",
       "      <th>sales</th>\n",
       "      <th>onpromotion</th>\n",
       "    </tr>\n",
       "    <tr>\n",
       "      <th>family</th>\n",
       "      <th></th>\n",
       "      <th></th>\n",
       "      <th></th>\n",
       "      <th></th>\n",
       "      <th></th>\n",
       "    </tr>\n",
       "  </thead>\n",
       "  <tbody>\n",
       "    <tr>\n",
       "      <th>AUTOMOTIVE</th>\n",
       "      <td>2173842</td>\n",
       "      <td>2016-05-07</td>\n",
       "      <td>53</td>\n",
       "      <td>24.000</td>\n",
       "      <td>8</td>\n",
       "    </tr>\n",
       "    <tr>\n",
       "      <th>BABY CARE</th>\n",
       "      <td>2189914</td>\n",
       "      <td>2016-05-16</td>\n",
       "      <td>54</td>\n",
       "      <td>1.000</td>\n",
       "      <td>1</td>\n",
       "    </tr>\n",
       "    <tr>\n",
       "      <th>BEAUTY</th>\n",
       "      <td>2499620</td>\n",
       "      <td>2016-11-06</td>\n",
       "      <td>44</td>\n",
       "      <td>43.000</td>\n",
       "      <td>10</td>\n",
       "    </tr>\n",
       "    <tr>\n",
       "      <th>BEVERAGES</th>\n",
       "      <td>2188101</td>\n",
       "      <td>2016-05-15</td>\n",
       "      <td>53</td>\n",
       "      <td>5601.000</td>\n",
       "      <td>342</td>\n",
       "    </tr>\n",
       "    <tr>\n",
       "      <th>BOOKS</th>\n",
       "      <td>2011189</td>\n",
       "      <td>2016-02-06</td>\n",
       "      <td>4</td>\n",
       "      <td>0.000</td>\n",
       "      <td>0</td>\n",
       "    </tr>\n",
       "    <tr>\n",
       "      <th>BREAD/BAKERY</th>\n",
       "      <td>2548562</td>\n",
       "      <td>2016-12-04</td>\n",
       "      <td>18</td>\n",
       "      <td>915.000</td>\n",
       "      <td>104</td>\n",
       "    </tr>\n",
       "    <tr>\n",
       "      <th>CELEBRATION</th>\n",
       "      <td>2216616</td>\n",
       "      <td>2016-05-31</td>\n",
       "      <td>53</td>\n",
       "      <td>40.000</td>\n",
       "      <td>14</td>\n",
       "    </tr>\n",
       "    <tr>\n",
       "      <th>CLEANING</th>\n",
       "      <td>2200579</td>\n",
       "      <td>2016-05-22</td>\n",
       "      <td>53</td>\n",
       "      <td>2947.000</td>\n",
       "      <td>285</td>\n",
       "    </tr>\n",
       "    <tr>\n",
       "      <th>DAIRY</th>\n",
       "      <td>2216618</td>\n",
       "      <td>2016-05-31</td>\n",
       "      <td>53</td>\n",
       "      <td>1263.000</td>\n",
       "      <td>167</td>\n",
       "    </tr>\n",
       "    <tr>\n",
       "      <th>DELI</th>\n",
       "      <td>2756301</td>\n",
       "      <td>2017-03-31</td>\n",
       "      <td>46</td>\n",
       "      <td>976.195</td>\n",
       "      <td>81</td>\n",
       "    </tr>\n",
       "    <tr>\n",
       "      <th>EGGS</th>\n",
       "      <td>2793658</td>\n",
       "      <td>2017-04-21</td>\n",
       "      <td>44</td>\n",
       "      <td>696.000</td>\n",
       "      <td>32</td>\n",
       "    </tr>\n",
       "    <tr>\n",
       "      <th>FROZEN FOODS</th>\n",
       "      <td>2173853</td>\n",
       "      <td>2016-05-07</td>\n",
       "      <td>53</td>\n",
       "      <td>430.588</td>\n",
       "      <td>33</td>\n",
       "    </tr>\n",
       "    <tr>\n",
       "      <th>GROCERY I</th>\n",
       "      <td>2216622</td>\n",
       "      <td>2016-05-31</td>\n",
       "      <td>53</td>\n",
       "      <td>7517.000</td>\n",
       "      <td>741</td>\n",
       "    </tr>\n",
       "    <tr>\n",
       "      <th>GROCERY II</th>\n",
       "      <td>2175637</td>\n",
       "      <td>2016-05-08</td>\n",
       "      <td>53</td>\n",
       "      <td>49.000</td>\n",
       "      <td>7</td>\n",
       "    </tr>\n",
       "    <tr>\n",
       "      <th>HARDWARE</th>\n",
       "      <td>2180984</td>\n",
       "      <td>2016-05-11</td>\n",
       "      <td>53</td>\n",
       "      <td>5.000</td>\n",
       "      <td>4</td>\n",
       "    </tr>\n",
       "    <tr>\n",
       "      <th>HOME AND KITCHEN I</th>\n",
       "      <td>2490723</td>\n",
       "      <td>2016-11-01</td>\n",
       "      <td>44</td>\n",
       "      <td>226.000</td>\n",
       "      <td>31</td>\n",
       "    </tr>\n",
       "    <tr>\n",
       "      <th>HOME AND KITCHEN II</th>\n",
       "      <td>2486170</td>\n",
       "      <td>2016-10-30</td>\n",
       "      <td>17</td>\n",
       "      <td>43.000</td>\n",
       "      <td>20</td>\n",
       "    </tr>\n",
       "    <tr>\n",
       "      <th>HOME APPLIANCES</th>\n",
       "      <td>2235239</td>\n",
       "      <td>2016-06-11</td>\n",
       "      <td>26</td>\n",
       "      <td>1.000</td>\n",
       "      <td>1</td>\n",
       "    </tr>\n",
       "    <tr>\n",
       "      <th>HOME CARE</th>\n",
       "      <td>2209500</td>\n",
       "      <td>2016-05-27</td>\n",
       "      <td>53</td>\n",
       "      <td>406.000</td>\n",
       "      <td>71</td>\n",
       "    </tr>\n",
       "    <tr>\n",
       "      <th>LADIESWEAR</th>\n",
       "      <td>1927615</td>\n",
       "      <td>2015-12-20</td>\n",
       "      <td>44</td>\n",
       "      <td>75.000</td>\n",
       "      <td>19</td>\n",
       "    </tr>\n",
       "    <tr>\n",
       "      <th>LAWN AND GARDEN</th>\n",
       "      <td>2901644</td>\n",
       "      <td>2017-06-21</td>\n",
       "      <td>24</td>\n",
       "      <td>64.000</td>\n",
       "      <td>15</td>\n",
       "    </tr>\n",
       "    <tr>\n",
       "      <th>LINGERIE</th>\n",
       "      <td>2484195</td>\n",
       "      <td>2016-10-29</td>\n",
       "      <td>11</td>\n",
       "      <td>15.000</td>\n",
       "      <td>12</td>\n",
       "    </tr>\n",
       "    <tr>\n",
       "      <th>LIQUOR,WINE,BEER</th>\n",
       "      <td>2161390</td>\n",
       "      <td>2016-04-30</td>\n",
       "      <td>53</td>\n",
       "      <td>243.000</td>\n",
       "      <td>27</td>\n",
       "    </tr>\n",
       "    <tr>\n",
       "      <th>MAGAZINES</th>\n",
       "      <td>2179211</td>\n",
       "      <td>2016-05-10</td>\n",
       "      <td>53</td>\n",
       "      <td>9.000</td>\n",
       "      <td>6</td>\n",
       "    </tr>\n",
       "    <tr>\n",
       "      <th>MEATS</th>\n",
       "      <td>2508717</td>\n",
       "      <td>2016-11-11</td>\n",
       "      <td>49</td>\n",
       "      <td>1737.153</td>\n",
       "      <td>56</td>\n",
       "    </tr>\n",
       "    <tr>\n",
       "      <th>PERSONAL CARE</th>\n",
       "      <td>2213071</td>\n",
       "      <td>2016-05-29</td>\n",
       "      <td>53</td>\n",
       "      <td>666.000</td>\n",
       "      <td>99</td>\n",
       "    </tr>\n",
       "    <tr>\n",
       "      <th>PET SUPPLIES</th>\n",
       "      <td>2484827</td>\n",
       "      <td>2016-10-29</td>\n",
       "      <td>29</td>\n",
       "      <td>8.000</td>\n",
       "      <td>6</td>\n",
       "    </tr>\n",
       "    <tr>\n",
       "      <th>PLAYERS AND ELECTRONICS</th>\n",
       "      <td>2884557</td>\n",
       "      <td>2017-06-11</td>\n",
       "      <td>44</td>\n",
       "      <td>85.000</td>\n",
       "      <td>16</td>\n",
       "    </tr>\n",
       "    <tr>\n",
       "      <th>POULTRY</th>\n",
       "      <td>2756419</td>\n",
       "      <td>2017-03-31</td>\n",
       "      <td>49</td>\n",
       "      <td>1861.559</td>\n",
       "      <td>48</td>\n",
       "    </tr>\n",
       "    <tr>\n",
       "      <th>PREPARED FOODS</th>\n",
       "      <td>2664515</td>\n",
       "      <td>2017-02-08</td>\n",
       "      <td>20</td>\n",
       "      <td>115.400</td>\n",
       "      <td>14</td>\n",
       "    </tr>\n",
       "    <tr>\n",
       "      <th>PRODUCE</th>\n",
       "      <td>2915019</td>\n",
       "      <td>2017-06-28</td>\n",
       "      <td>49</td>\n",
       "      <td>11089.586</td>\n",
       "      <td>252</td>\n",
       "    </tr>\n",
       "    <tr>\n",
       "      <th>SCHOOL AND OFFICE SUPPLIES</th>\n",
       "      <td>2998642</td>\n",
       "      <td>2017-08-14</td>\n",
       "      <td>45</td>\n",
       "      <td>575.000</td>\n",
       "      <td>14</td>\n",
       "    </tr>\n",
       "    <tr>\n",
       "      <th>SEAFOOD</th>\n",
       "      <td>1674056</td>\n",
       "      <td>2015-07-31</td>\n",
       "      <td>3</td>\n",
       "      <td>160.400</td>\n",
       "      <td>7</td>\n",
       "    </tr>\n",
       "  </tbody>\n",
       "</table>\n",
       "</div>"
      ],
      "text/plain": [
       "                                 id        date  store_nbr      sales  \\\n",
       "family                                                                  \n",
       "AUTOMOTIVE                  2173842  2016-05-07         53     24.000   \n",
       "BABY CARE                   2189914  2016-05-16         54      1.000   \n",
       "BEAUTY                      2499620  2016-11-06         44     43.000   \n",
       "BEVERAGES                   2188101  2016-05-15         53   5601.000   \n",
       "BOOKS                       2011189  2016-02-06          4      0.000   \n",
       "BREAD/BAKERY                2548562  2016-12-04         18    915.000   \n",
       "CELEBRATION                 2216616  2016-05-31         53     40.000   \n",
       "CLEANING                    2200579  2016-05-22         53   2947.000   \n",
       "DAIRY                       2216618  2016-05-31         53   1263.000   \n",
       "DELI                        2756301  2017-03-31         46    976.195   \n",
       "EGGS                        2793658  2017-04-21         44    696.000   \n",
       "FROZEN FOODS                2173853  2016-05-07         53    430.588   \n",
       "GROCERY I                   2216622  2016-05-31         53   7517.000   \n",
       "GROCERY II                  2175637  2016-05-08         53     49.000   \n",
       "HARDWARE                    2180984  2016-05-11         53      5.000   \n",
       "HOME AND KITCHEN I          2490723  2016-11-01         44    226.000   \n",
       "HOME AND KITCHEN II         2486170  2016-10-30         17     43.000   \n",
       "HOME APPLIANCES             2235239  2016-06-11         26      1.000   \n",
       "HOME CARE                   2209500  2016-05-27         53    406.000   \n",
       "LADIESWEAR                  1927615  2015-12-20         44     75.000   \n",
       "LAWN AND GARDEN             2901644  2017-06-21         24     64.000   \n",
       "LINGERIE                    2484195  2016-10-29         11     15.000   \n",
       "LIQUOR,WINE,BEER            2161390  2016-04-30         53    243.000   \n",
       "MAGAZINES                   2179211  2016-05-10         53      9.000   \n",
       "MEATS                       2508717  2016-11-11         49   1737.153   \n",
       "PERSONAL CARE               2213071  2016-05-29         53    666.000   \n",
       "PET SUPPLIES                2484827  2016-10-29         29      8.000   \n",
       "PLAYERS AND ELECTRONICS     2884557  2017-06-11         44     85.000   \n",
       "POULTRY                     2756419  2017-03-31         49   1861.559   \n",
       "PREPARED FOODS              2664515  2017-02-08         20    115.400   \n",
       "PRODUCE                     2915019  2017-06-28         49  11089.586   \n",
       "SCHOOL AND OFFICE SUPPLIES  2998642  2017-08-14         45    575.000   \n",
       "SEAFOOD                     1674056  2015-07-31          3    160.400   \n",
       "\n",
       "                            onpromotion  \n",
       "family                                   \n",
       "AUTOMOTIVE                            8  \n",
       "BABY CARE                             1  \n",
       "BEAUTY                               10  \n",
       "BEVERAGES                           342  \n",
       "BOOKS                                 0  \n",
       "BREAD/BAKERY                        104  \n",
       "CELEBRATION                          14  \n",
       "CLEANING                            285  \n",
       "DAIRY                               167  \n",
       "DELI                                 81  \n",
       "EGGS                                 32  \n",
       "FROZEN FOODS                         33  \n",
       "GROCERY I                           741  \n",
       "GROCERY II                            7  \n",
       "HARDWARE                              4  \n",
       "HOME AND KITCHEN I                   31  \n",
       "HOME AND KITCHEN II                  20  \n",
       "HOME APPLIANCES                       1  \n",
       "HOME CARE                            71  \n",
       "LADIESWEAR                           19  \n",
       "LAWN AND GARDEN                      15  \n",
       "LINGERIE                             12  \n",
       "LIQUOR,WINE,BEER                     27  \n",
       "MAGAZINES                             6  \n",
       "MEATS                                56  \n",
       "PERSONAL CARE                        99  \n",
       "PET SUPPLIES                          6  \n",
       "PLAYERS AND ELECTRONICS              16  \n",
       "POULTRY                              48  \n",
       "PREPARED FOODS                       14  \n",
       "PRODUCE                             252  \n",
       "SCHOOL AND OFFICE SUPPLIES           14  \n",
       "SEAFOOD                               7  "
      ]
     },
     "execution_count": 21,
     "metadata": {},
     "output_type": "execute_result"
    }
   ],
   "source": [
    "df_group = LS.groupby(['family'])\n",
    "df_group.first()"
   ]
  },
  {
   "cell_type": "code",
   "execution_count": 22,
   "metadata": {},
   "outputs": [
    {
     "data": {
      "text/plain": [
       "2173842    24.0\n",
       "2916210     9.0\n",
       "2175624    31.0\n",
       "2163183    13.0\n",
       "2211297    12.0\n",
       "           ... \n",
       "969474      4.0\n",
       "969441      4.0\n",
       "969672      4.0\n",
       "969738      2.0\n",
       "969606      0.0\n",
       "Name: sales, Length: 90936, dtype: float64"
      ]
     },
     "execution_count": 22,
     "metadata": {},
     "output_type": "execute_result"
    }
   ],
   "source": [
    "df_group.get_group('AUTOMOTIVE')['sales']"
   ]
  },
  {
   "cell_type": "code",
   "execution_count": null,
   "metadata": {},
   "outputs": [],
   "source": [
    "# We can use the function of f_oneway to obtain F-test and P-value"
   ]
  },
  {
   "cell_type": "code",
   "execution_count": 30,
   "metadata": {},
   "outputs": [
    {
     "name": "stdout",
     "output_type": "stream",
     "text": [
      "ANOVA results: F= 92047.94276526879 , P = 0.0\n"
     ]
    }
   ],
   "source": [
    "f_test,p_value = stats.f_oneway(df_group.get_group('AUTOMOTIVE')['sales'],\n",
    "    df_group.get_group('BEAUTY')['sales'],\n",
    "    df_group.get_group('BEVERAGES')['sales'],\n",
    "    df_group.get_group('BOOKS')['sales'],\n",
    "    df_group.get_group('BREAD/BAKERY')['sales'],\n",
    "    df_group.get_group('CELEBRATION')['sales'],\n",
    "    df_group.get_group('CLEANING')['sales'],\n",
    "    df_group.get_group('DAIRY')['sales'],\n",
    "    df_group.get_group('DELI')['sales'],\n",
    "    df_group.get_group('EGGS')['sales'],\n",
    "    df_group.get_group('FROZEN FOODS')['sales'],\n",
    "    df_group.get_group('GROCERY I')['sales'],\n",
    "    df_group.get_group('GROCERY II')['sales'],\n",
    "    df_group.get_group('HARDWARE')['sales'],\n",
    "    df_group.get_group('HOME AND KITCHEN I')['sales'],\n",
    "    df_group.get_group('HOME AND KITCHEN II')['sales'],\n",
    "    df_group.get_group('HOME APPLIANCES')['sales'],\n",
    "    df_group.get_group('HOME CARE')['sales'],\n",
    "    df_group.get_group('LADIESWEAR')['sales'],\n",
    "    df_group.get_group('LAWN AND GARDEN')['sales'],\n",
    "    df_group.get_group('LINGERIE')['sales'],\n",
    "    df_group.get_group('LIQUOR,WINE,BEER')['sales'],\n",
    "    df_group.get_group('MAGAZINES')['sales'],\n",
    "    df_group.get_group('MEATS')['sales'],\n",
    "    df_group.get_group('PERSONAL CARE')['sales'],\n",
    "    df_group.get_group('PET SUPPLIES')['sales'],\n",
    "    df_group.get_group('PLAYERS AND ELECTRONICS')['sales'],\n",
    "    df_group.get_group('POULTRY')['sales'],\n",
    "    df_group.get_group('PREPARED FOODS')['sales'],\n",
    "    df_group.get_group('PRODUCE')['sales'],\n",
    "    df_group.get_group('SCHOOL AND OFFICE SUPPLIES')['sales'],\n",
    "    df_group.get_group('SEAFOOD')['sales'])\n",
    "\n",
    "print( \"ANOVA results: F=\", f_test, \", P =\", p_value)   "
   ]
  },
  {
   "attachments": {},
   "cell_type": "markdown",
   "metadata": {},
   "source": [
    "this result is P-value<0.05, it can be imply each category in family not significantly different based on sales."
   ]
  }
 ],
 "metadata": {
  "kernelspec": {
   "display_name": "base",
   "language": "python",
   "name": "python3"
  },
  "language_info": {
   "codemirror_mode": {
    "name": "ipython",
    "version": 3
   },
   "file_extension": ".py",
   "mimetype": "text/x-python",
   "name": "python",
   "nbconvert_exporter": "python",
   "pygments_lexer": "ipython3",
   "version": "3.8.5"
  },
  "orig_nbformat": 4,
  "vscode": {
   "interpreter": {
    "hash": "e1214828529efe0c1ccdf5bade641e9255c8d5a399b40947fe6c10922079569d"
   }
  }
 },
 "nbformat": 4,
 "nbformat_minor": 2
}
